{
  "nbformat": 4,
  "nbformat_minor": 0,
  "metadata": {
    "colab": {
      "name": "orçamento viagem.ipynb",
      "provenance": [],
      "authorship_tag": "ABX9TyMFdmNO2cyxJyknX687+qUv",
      "include_colab_link": true
    },
    "kernelspec": {
      "name": "python3",
      "display_name": "Python 3"
    },
    "language_info": {
      "name": "python"
    }
  },
  "cells": [
    {
      "cell_type": "markdown",
      "metadata": {
        "id": "view-in-github",
        "colab_type": "text"
      },
      "source": [
        "<a href=\"https://colab.research.google.com/github/weslehy25/Projeto-APP/blob/master/or%C3%A7amento_viagem.ipynb\" target=\"_parent\"><img src=\"https://colab.research.google.com/assets/colab-badge.svg\" alt=\"Open In Colab\"/></a>"
      ]
    },
    {
      "cell_type": "code",
      "execution_count": 19,
      "metadata": {
        "colab": {
          "base_uri": "https://localhost:8080/"
        },
        "id": "etzaX_HkPuJG",
        "outputId": "1083d640-89fd-40b7-9d25-8ab8efc0f658"
      },
      "outputs": [
        {
          "output_type": "stream",
          "name": "stdout",
          "text": [
            "qual o seu nome? wesley\n",
            "seja bem vindo  wesley\n"
          ]
        }
      ],
      "source": [
        "nome = (input('qual o seu nome? '))\n",
        "print ('seja bem vindo ', nome)"
      ]
    },
    {
      "cell_type": "code",
      "source": [
        "print ('para iniciar seu orçamento eu preciso de algumas informações ok ? ')"
      ],
      "metadata": {
        "colab": {
          "base_uri": "https://localhost:8080/"
        },
        "id": "QOWCyJwaQR9e",
        "outputId": "ade1411b-d540-428d-d902-a5a409dd7b15"
      },
      "execution_count": 20,
      "outputs": [
        {
          "output_type": "stream",
          "name": "stdout",
          "text": [
            "para iniciar seu orçamento eu preciso de algumas informações ok ? \n"
          ]
        }
      ]
    },
    {
      "cell_type": "code",
      "source": [
        "dataent = (input('me diz a data que vc quer entrar no hotel? '))\n",
        "datasai = (input('me diz a data que vc quer sair no hotel? '))\n",
        "print ('a data que voce quer entrar no hotel é {} e sair {} ? ' .format (dataent, datasai))"
      ],
      "metadata": {
        "colab": {
          "base_uri": "https://localhost:8080/"
        },
        "id": "Gug0ouD3QSCS",
        "outputId": "36d3d4f5-295f-499c-8ad0-d68432ddf47d"
      },
      "execution_count": 21,
      "outputs": [
        {
          "output_type": "stream",
          "name": "stdout",
          "text": [
            "me diz a data que vc quer entrar no hotel? 10\n",
            "me diz a data que vc quer sair no hotel? 12\n",
            "a data que voce quer entrar no hotel é 10 e sair 12 ? \n"
          ]
        }
      ]
    },
    {
      "cell_type": "code",
      "source": [
        "transporte = str(input('voce vai no seu carro ou no onibus? '))\n",
        "transporte = 'carro'\n",
        "carro = 500\n",
        "print('o valor da sua viagem para até 5 pessoas no seu carro fica ' , carro)\n",
        "transporte = 'onibus'\n",
        "print('vou fazer o orçamento para voce ok? ')\n",
        "\n"
      ],
      "metadata": {
        "colab": {
          "base_uri": "https://localhost:8080/"
        },
        "id": "EZ2bwTXBUD9-",
        "outputId": "4a06de80-a8c4-4317-b759-244ff15f7638"
      },
      "execution_count": 47,
      "outputs": [
        {
          "output_type": "stream",
          "name": "stdout",
          "text": [
            "voce vai no seu carro ou no onibus? onibus\n",
            "o valor da sua viagem para até 5 pessoas no seu carro fica  500\n",
            "vou fazer o orçamento para voce ok? \n"
          ]
        }
      ]
    },
    {
      "cell_type": "code",
      "source": [
        "adultos = int(input('me diz quantas pessoas adultas são? '))\n",
        "criancasP = int(input('me diz quantas crianças de 6 a 11 anos ? '))\n",
        "criancasNP = int(input('me diz quantas crianças de 0 a 5 anos ? '))\n",
        "totalPag = (adultos + criancasP)\n",
        "print (' o total de pessoas pagantes são ' , totalPag)\n",
        "criancaNP = 0\n",
        "apto = 400\n",
        "poltrona = (totalPag * 100)\n",
        "lucro = 180\n",
        "valortotal = (apto + poltrona + lucro)\n",
        "print ('o valor total da excursão é ', valortotal)\n"
      ],
      "metadata": {
        "colab": {
          "base_uri": "https://localhost:8080/"
        },
        "id": "iSZb5i8-enY5",
        "outputId": "43b256ef-22e0-4c34-b8c7-965f53814ed1"
      },
      "execution_count": 27,
      "outputs": [
        {
          "output_type": "stream",
          "name": "stdout",
          "text": [
            "me diz quantas pessoas adultas são? 4\n",
            "me diz quantas crianças de 6 a 11 anos ? 1\n",
            "me diz quantas crianças de 0 a 5 anos ? 2\n",
            " o total de pessoas pagantes são  5\n",
            "o valor total da excursão é  1080\n"
          ]
        }
      ]
    }
  ]
}