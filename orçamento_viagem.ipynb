{
  "nbformat": 4,
  "nbformat_minor": 0,
  "metadata": {
    "colab": {
      "name": "orçamento viagem.ipynb",
      "provenance": [],
      "authorship_tag": "ABX9TyPBb/shD2pYCZUSNijDzpb2",
      "include_colab_link": true
    },
    "kernelspec": {
      "name": "python3",
      "display_name": "Python 3"
    },
    "language_info": {
      "name": "python"
    }
  },
  "cells": [
    {
      "cell_type": "markdown",
      "metadata": {
        "id": "view-in-github",
        "colab_type": "text"
      },
      "source": [
        "<a href=\"https://colab.research.google.com/github/weslehy25/Projeto-APP/blob/master/or%C3%A7amento_viagem.ipynb\" target=\"_parent\"><img src=\"https://colab.research.google.com/assets/colab-badge.svg\" alt=\"Open In Colab\"/></a>"
      ]
    },
    {
      "cell_type": "code",
      "execution_count": 10,
      "metadata": {
        "colab": {
          "base_uri": "https://localhost:8080/"
        },
        "id": "etzaX_HkPuJG",
        "outputId": "25a89ca6-2cc2-47dc-8bc8-e2583a7595a5"
      },
      "outputs": [
        {
          "output_type": "stream",
          "name": "stdout",
          "text": [
            "qual o seu nome? wesley\n",
            "seja bem vindo  wesley\n"
          ]
        }
      ],
      "source": [
        "nome = (input('qual o seu nome? '))\n",
        "print ('seja bem vindo ', nome)"
      ]
    },
    {
      "cell_type": "code",
      "source": [
        "print ('para iniciar seu orçamento eu preciso de algumas informações ok ? ')"
      ],
      "metadata": {
        "colab": {
          "base_uri": "https://localhost:8080/"
        },
        "id": "QOWCyJwaQR9e",
        "outputId": "d5182509-ad0c-4029-b768-c76428976157"
      },
      "execution_count": 11,
      "outputs": [
        {
          "output_type": "stream",
          "name": "stdout",
          "text": [
            "para iniciar seu orçamento eu preciso de algumas informações ok ? \n"
          ]
        }
      ]
    },
    {
      "cell_type": "code",
      "source": [
        "dataent = (input('me diz a data que vc quer entrar no hotel? '))\n",
        "datasai = (input('me diz a data que vc quer sair no hotel? '))\n",
        "print ('a data que voce quer entrar no hotel é {} e sair {} ? ' .format (dataent, datasai))"
      ],
      "metadata": {
        "colab": {
          "base_uri": "https://localhost:8080/"
        },
        "id": "Gug0ouD3QSCS",
        "outputId": "aaf8c22c-2c62-42a9-e39a-c9dd1ec1ba20"
      },
      "execution_count": 12,
      "outputs": [
        {
          "output_type": "stream",
          "name": "stdout",
          "text": [
            "me diz a data que vc quer entrar no hotel? 10\n",
            "me diz a data que vc quer sair no hotel? 12\n",
            "a data que voce quer entrar no hotel é 10 e sair 12 ? \n"
          ]
        }
      ]
    },
    {
      "cell_type": "code",
      "source": [
        "transporte = (input('voce vai no seu carro ou no onibus? '))\n",
        "if transporte = Carro:\n",
        "carro = 500\n",
        "if transporte = onibus:\n",
        "onibus = (input('me diz quantas pessoas são? '))\n"
      ],
      "metadata": {
        "colab": {
          "base_uri": "https://localhost:8080/",
          "height": 132
        },
        "id": "EZ2bwTXBUD9-",
        "outputId": "86a58153-bd9d-45e7-9f53-3710bbdd6b24"
      },
      "execution_count": 14,
      "outputs": [
        {
          "output_type": "error",
          "ename": "SyntaxError",
          "evalue": "ignored",
          "traceback": [
            "\u001b[0;36m  File \u001b[0;32m\"<ipython-input-14-2c1bf2683565>\"\u001b[0;36m, line \u001b[0;32m2\u001b[0m\n\u001b[0;31m    if transporte = Carro:\u001b[0m\n\u001b[0m                  ^\u001b[0m\n\u001b[0;31mSyntaxError\u001b[0m\u001b[0;31m:\u001b[0m invalid syntax\n"
          ]
        }
      ]
    }
  ]
}